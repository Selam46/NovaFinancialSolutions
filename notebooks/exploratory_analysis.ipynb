{
 "cells": [
  {
   "cell_type": "markdown",
   "metadata": {},
   "source": [
    "# Exploratory Data Analysis (EDA) on Financial News Dataset\n",
    "\n",
    "## Introduction\n",
    "This notebook performs Exploratory Data Analysis (EDA) on a financial news dataset comprising various articles, their publication dates, and associated publishers. The objectives of this analysis are to:\n",
    "- Understand the distribution of article lengths.\n",
    "- Analyze the frequency of articles published by different publishers.\n",
    "- Examine trends in publication dates over time.\n",
    "- Perform sentiment analysis on the headlines.\n",
    "\n",
    "## Load Libraries\n",
    "```python\n",
    "import pandas as pd\n",
    "import matplotlib.pyplot as plt\n",
    "import seaborn as sns\n",
    "from nltk.sentiment import SentimentIntensityAnalyzer\n",
    "import datetime"
   ]
  }
 ],
 "metadata": {
  "language_info": {
   "name": "python"
  }
 },
 "nbformat": 4,
 "nbformat_minor": 2
}
