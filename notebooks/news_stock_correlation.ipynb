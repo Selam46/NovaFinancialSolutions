{
 "cells": [
  {
   "cell_type": "markdown",
   "metadata": {},
   "source": [
    "# Step 1: Import libraries\n",
    "import pandas as p\n",
    "import yfinance as yf\n",
    "from nltk.sentiment import SentimentIntensityAnalyzer\n",
    "from datetime import datetime\n",
    "import matplotlib.pyplot as plt\n",
    "\n",
    "# Step 2: Load Data\n",
    "# Load stock prices\n",
    "ticker = 'AAPL'  # Example stock\n",
    "data = yf.download(ticker, start='2024-01-01', end='2024-06-01')\n",
    "\n",
    "# Load news headlines\n",
    "news = pd.read_csv('news_data.csv')  # Columns: date, headline\n",
    "news['date'] = pd.to_datetime(news['date'])\n",
    "\n",
    "# Step 3: Sentiment Analysis\n",
    "sia = SentimentIntensityAnalyzer()\n",
    "news['sentiment'] = news['headline'].apply(lambda x: sia.polarity_scores(x)['compound'])\n",
    "\n",
    "# Step 4: Aggregate daily sentiment\n",
    "daily_sentiment = news.groupby(news['date'].dt.date)['sentiment'].mean().reset_index()\n",
    "\n",
    "# Step 5: Calculate stock daily returns\n",
    "data['daily_return'] = data['Adj Close'].pct_change()\n",
    "stock_returns = data.reset_index()[['Date', 'daily_return']]\n",
    "\n",
    "# Step 6: Merge data\n",
    "merged = pd.merge(daily_sentiment, stock_returns, left_on='date', right_on='Date')\n",
    "\n",
    "# Step 7: Correlation Analysis\n",
    "correlation = merged['sentiment'].corr(merged['daily_return'])\n",
    "print(f'Pearson Correlation: {correlation}')\n",
    "\n",
    "# Step 8: Visualization\n",
    "plt.figure(figsize=(10, 6))\n",
    "plt.scatter(merged['sentiment'], merged['daily_return'])\n",
    "plt.title('Sentiment vs Stock Returns')\n",
    "plt.xlabel('Sentiment Score')\n",
    "plt.ylabel('Daily Stock Returns')\n",
    "plt.grid()\n",
    "plt.show()"
   ]
  }
 ],
 "metadata": {
  "language_info": {
   "name": "python"
  }
 },
 "nbformat": 4,
 "nbformat_minor": 2
}
